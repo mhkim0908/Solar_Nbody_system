{
 "cells": [
  {
   "cell_type": "code",
   "execution_count": 1,
   "metadata": {},
   "outputs": [],
   "source": [
    "import numpy as np \n",
    "import matplotlib.pyplot as plt"
   ]
  },
  {
   "cell_type": "code",
   "execution_count": 2,
   "metadata": {},
   "outputs": [],
   "source": [
    "import numpy as np\n",
    "import matplotlib.pyplot as plt\n",
    "import seaborn as sns"
   ]
  },
  {
   "cell_type": "code",
   "execution_count": 51,
   "metadata": {},
   "outputs": [],
   "source": [
    "import pandas as pd"
   ]
  },
  {
   "cell_type": "code",
   "execution_count": 86,
   "metadata": {},
   "outputs": [
    {
     "data": {
      "text/html": [
       "<div>\n",
       "<style scoped>\n",
       "    .dataframe tbody tr th:only-of-type {\n",
       "        vertical-align: middle;\n",
       "    }\n",
       "\n",
       "    .dataframe tbody tr th {\n",
       "        vertical-align: top;\n",
       "    }\n",
       "\n",
       "    .dataframe thead th {\n",
       "        text-align: right;\n",
       "    }\n",
       "</style>\n",
       "<table border=\"1\" class=\"dataframe\">\n",
       "  <thead>\n",
       "    <tr style=\"text-align: right;\">\n",
       "      <th></th>\n",
       "      <th>distance</th>\n",
       "      <th>velocity</th>\n",
       "      <th>mu</th>\n",
       "    </tr>\n",
       "    <tr>\n",
       "      <th>name</th>\n",
       "      <th></th>\n",
       "      <th></th>\n",
       "      <th></th>\n",
       "    </tr>\n",
       "  </thead>\n",
       "  <tbody>\n",
       "    <tr>\n",
       "      <th>sun</th>\n",
       "      <td>0</td>\n",
       "      <td>0</td>\n",
       "      <td>132712440018000000000</td>\n",
       "    </tr>\n",
       "    <tr>\n",
       "      <th>mercury</th>\n",
       "      <td>58344000000</td>\n",
       "      <td>47400</td>\n",
       "      <td>22032000000000</td>\n",
       "    </tr>\n",
       "    <tr>\n",
       "      <th>venus</th>\n",
       "      <td>108160800000</td>\n",
       "      <td>35100</td>\n",
       "      <td>324859000000000</td>\n",
       "    </tr>\n",
       "    <tr>\n",
       "      <th>earth</th>\n",
       "      <td>149600000000</td>\n",
       "      <td>29800</td>\n",
       "      <td>398600441800000</td>\n",
       "    </tr>\n",
       "    <tr>\n",
       "      <th>mars</th>\n",
       "      <td>227990400000</td>\n",
       "      <td>24100</td>\n",
       "      <td>42828370000000</td>\n",
       "    </tr>\n",
       "  </tbody>\n",
       "</table>\n",
       "</div>"
      ],
      "text/plain": [
       "             distance  velocity                      mu\n",
       "name                                                   \n",
       "sun                 0         0  132712440018000000000 \n",
       "mercury   58344000000     47400         22032000000000 \n",
       "venus    108160800000     35100        324859000000000 \n",
       "earth    149600000000     29800        398600441800000 \n",
       "mars     227990400000     24100         42828370000000 "
      ]
     },
     "execution_count": 86,
     "metadata": {},
     "output_type": "execute_result"
    }
   ],
   "source": [
    "solar_data = pd.DataFrame(pd.read_csv('C:/Users/mhkim/OneDrive/문서/GitHub/Solar_Nbody_system/solarsystem.csv', sep=','))\n",
    "solar_data.set_index('name',inplace=True,drop=True)\n",
    "solar_data.head()"
   ]
  },
  {
   "cell_type": "code",
   "execution_count": 98,
   "metadata": {},
   "outputs": [
    {
     "data": {
      "text/plain": [
       "'132712440018000000000 '"
      ]
     },
     "execution_count": 98,
     "metadata": {},
     "output_type": "execute_result"
    }
   ],
   "source": [
    "solar_data.iloc[0][2]"
   ]
  },
  {
   "cell_type": "code",
   "execution_count": 3,
   "metadata": {},
   "outputs": [
    {
     "data": {
      "text/html": [
       "<svg  width=\"550\" height=\"55\"><rect x=\"0\" y=\"0\" width=\"55\" height=\"55\" style=\"fill:#023eff;stroke-width:2;stroke:rgb(255,255,255)\"/><rect x=\"55\" y=\"0\" width=\"55\" height=\"55\" style=\"fill:#ff7c00;stroke-width:2;stroke:rgb(255,255,255)\"/><rect x=\"110\" y=\"0\" width=\"55\" height=\"55\" style=\"fill:#1ac938;stroke-width:2;stroke:rgb(255,255,255)\"/><rect x=\"165\" y=\"0\" width=\"55\" height=\"55\" style=\"fill:#e8000b;stroke-width:2;stroke:rgb(255,255,255)\"/><rect x=\"220\" y=\"0\" width=\"55\" height=\"55\" style=\"fill:#8b2be2;stroke-width:2;stroke:rgb(255,255,255)\"/><rect x=\"275\" y=\"0\" width=\"55\" height=\"55\" style=\"fill:#9f4800;stroke-width:2;stroke:rgb(255,255,255)\"/><rect x=\"330\" y=\"0\" width=\"55\" height=\"55\" style=\"fill:#f14cc1;stroke-width:2;stroke:rgb(255,255,255)\"/><rect x=\"385\" y=\"0\" width=\"55\" height=\"55\" style=\"fill:#a3a3a3;stroke-width:2;stroke:rgb(255,255,255)\"/><rect x=\"440\" y=\"0\" width=\"55\" height=\"55\" style=\"fill:#ffc400;stroke-width:2;stroke:rgb(255,255,255)\"/><rect x=\"495\" y=\"0\" width=\"55\" height=\"55\" style=\"fill:#00d7ff;stroke-width:2;stroke:rgb(255,255,255)\"/></svg>"
      ],
      "text/plain": [
       "[(0.00784313725490196, 0.24313725490196078, 1.0),\n",
       " (1.0, 0.48627450980392156, 0.0),\n",
       " (0.10196078431372549, 0.788235294117647, 0.2196078431372549),\n",
       " (0.9098039215686274, 0.0, 0.043137254901960784),\n",
       " (0.5450980392156862, 0.16862745098039217, 0.8862745098039215),\n",
       " (0.6235294117647059, 0.2823529411764706, 0.0),\n",
       " (0.9450980392156862, 0.2980392156862745, 0.7568627450980392),\n",
       " (0.6392156862745098, 0.6392156862745098, 0.6392156862745098),\n",
       " (1.0, 0.7686274509803922, 0.0),\n",
       " (0.0, 0.8431372549019608, 1.0)]"
      ]
     },
     "execution_count": 3,
     "metadata": {},
     "output_type": "execute_result"
    }
   ],
   "source": [
    "palette = sns.color_palette('bright')\n",
    "palette"
   ]
  },
  {
   "cell_type": "code",
   "execution_count": 109,
   "metadata": {},
   "outputs": [],
   "source": [
    "#(new) class Planets \n",
    "\n",
    "\n",
    "class Planet:\n",
    "\n",
    "    def __init__ (self,PlanetName):\n",
    "        __solar_data = pd.DataFrame(pd.read_csv('C:/Users/mhkim/OneDrive/문서/GitHub/Solar_Nbody_system/solarsystem.csv', sep=','))\n",
    "        __solar_data.set_index('name',inplace=True,drop=True)    \n",
    "        _pos = np.array([0,0],float)\n",
    "        _vel = np.array([0,0],float)\n",
    "        self.PlanetName = str(PlanetName)\n",
    "        self.position = _pos+np.array([__solar_data.loc[self.PlanetName][0],0],float) #Nowstate position\n",
    "        self.velocity = _vel+np.array([__solar_data.loc[self.PlanetName][1],0],float) #Nowstate velocity\n",
    "        self.mu = __solar_data.loc[self.PlanetName][2]\n",
    "        self.distance = __solar_data.loc[self.PlanetName][0] #Distance from the Sun \n",
    "    \n",
    "    def update (self, new_position, new_velocity):\n",
    "        self.position += new_position\n",
    "        self.velocity += new_velocity\n",
    "\n",
    "    \n",
    "\n",
    "\n",
    "    def info(self):\n",
    "        print('Planet Name:',self.PlanetName)\n",
    "        print('Distance From Sun:',self.distance)\n",
    "        print('Now Coordinate:',self.position)\n",
    "        print('Now Velocity:',self.velocity)\n",
    "        print('Planet standard gravitational parameter (mu):',self.mu)"
   ]
  },
  {
   "cell_type": "code",
   "execution_count": 110,
   "metadata": {},
   "outputs": [
    {
     "name": "stdout",
     "output_type": "stream",
     "text": [
      "Planet Name: sun\n",
      "Distance From Sun: 0\n",
      "Now Coordinate: [0. 0.]\n",
      "Now Velocity: [0. 0.]\n",
      "Planet standard gravitational parameter (mu): 132712440018000000000 \n"
     ]
    }
   ],
   "source": [
    "sun = Planet('sun')\n",
    "sun.info()"
   ]
  },
  {
   "cell_type": "code",
   "execution_count": 112,
   "metadata": {},
   "outputs": [
    {
     "name": "stdout",
     "output_type": "stream",
     "text": [
      "Planet Name: earth\n",
      "Distance From Sun: 149600000000\n",
      "Now Coordinate: [1.496e+11 0.000e+00]\n",
      "Now Velocity: [29800.     0.]\n",
      "Planet standard gravitational parameter (mu): 398600441800000 \n"
     ]
    }
   ],
   "source": [
    "earth = Planet('earth')\n",
    "earth.info()"
   ]
  },
  {
   "cell_type": "code",
   "execution_count": 102,
   "metadata": {},
   "outputs": [
    {
     "name": "stdout",
     "output_type": "stream",
     "text": [
      "Planet Name: sun\n",
      "Distance From Sun: 0\n",
      "Now Coordinate: [0, 0, 0, 0]\n",
      "Now Velocity: [0, 0, 0, 0]\n",
      "Planet standard gravitational parameter (mu): 132712440018000000000 \n"
     ]
    }
   ],
   "source": []
  },
  {
   "cell_type": "code",
   "execution_count": 47,
   "metadata": {},
   "outputs": [],
   "source": [
    "#class Planets \n",
    "\n",
    "class Planet:\n",
    "    def __init__ (self,PlanetName):\n",
    "        self.PlanetName = PlanetName\n",
    "        self.position = self._position #Nowstate position\n",
    "        self.velocity = self._velocity #Nowstate velocity\n",
    "        self.mu = self._mu()\n",
    "        self.distance = self._distance() #Distance from the Sun \n",
    "        _AU = 1.496e+11                    #1AU to m \n",
    "        _hour = 3600                       #hour to second\n",
    "        _ss = 7.71604938e-8                #sec^2 to hour^2\n",
    "\n",
    "    def info(self):\n",
    "        print('Planet Name:',self.PlanetName)\n",
    "        print('Distance From Sun:',self.distance)\n",
    "        print('Now Coordinate:',self.position)\n",
    "        print('Now Velocity:',self.velocity)\n",
    "        print('Planet standard gravitational parameter (mu):',self.mu)\n",
    "\n",
    "class Sun(Planet):\n",
    "    def _distance(self):\n",
    "        return 0\n",
    "    def _position(self):\n",
    "        return 0\n",
    "    def _velocity(self):                #Sun will be pinned \n",
    "        return 0\n",
    "    def _mu(self):\n",
    "        return 1.32712440018e20\n",
    "\n",
    "class PlanetMercury(Planet):\n",
    "    def __init__(self):\n",
    "        super().__init__(self.PlanetName)\n",
    "        self._position = \n",
    "\n",
    "\n",
    "    def _distance(self):      #aphelion position from sun\n",
    "        return float(1.496e+11*0.39)\n",
    "\n",
    "    def add_position(self,fr=[0,0]):\n",
    "        self.fr = fr\n",
    "        position = [float(1.496e+11*0.39)+self.fr[0],0+self.fr[1]]  #initial position  from sun \n",
    "        return position      \n",
    "\n",
    "    def add_velocity(self,fv=[0,0]):\n",
    "        self.fv = fv\n",
    "        velocity = 47.4e3\n",
    "        return velocity\n",
    "\n",
    "    def _mu(self):                        #Mu = G*M [m^3/s^2]\n",
    "        return 2.2032e13"
   ]
  },
  {
   "cell_type": "code",
   "execution_count": 48,
   "metadata": {},
   "outputs": [
    {
     "name": "stdout",
     "output_type": "stream",
     "text": [
      "Planet Name: mc\n",
      "Distance From Sun: 58344000000.0\n",
      "Now Coordinate: [58344000000.0, 0]\n",
      "Now Velocity: 47400.0\n",
      "Planet standard gravitational parameter (mu): 22032000000000.0\n"
     ]
    }
   ],
   "source": [
    "ccc = PlanetMercury('mc')\n",
    "ccc.info()"
   ]
  },
  {
   "cell_type": "code",
   "execution_count": 5,
   "metadata": {},
   "outputs": [],
   "source": [
    "#factoring planets \n",
    "def planets(PlanetName):\n",
    "    if PlanetName == 0:\n",
    "        return Sun('Sun')\n",
    "    elif PlanetName == 1:\n",
    "        return PlanetMercury('Mercury')\n",
    "    elif PlanetName == 2:\n",
    "        return PlanetVenus('Venus')\n",
    "    elif PlanetName == 3:\n",
    "        return PlanetEarth('Earth')\n",
    "    elif PlanetName == 4:\n",
    "        return PlanetMars('Mars')\n",
    "    elif PlanetName == 5:\n",
    "        return PlanetJupiter('Jupiter')\n",
    "    elif PlanetName == 6:\n",
    "        return PlanetSaturn('Saturn')\n",
    "    elif PlanetName == 7:\n",
    "        return PlanetUranus('Uranus')\n",
    "    elif PlanetName == 8:\n",
    "        return PlanetNeptune('Neptune')\n",
    "    elif PlanetName == 9:\n",
    "        return PlanetPluto('Pluto')\n",
    "    elif PlanetName == 10:\n",
    "        return CometHalley('Halley')\n",
    "    else:\n",
    "        raise Exception(\"There is no such planet in the solar system.\")\n",
    "\n",
    "\n",
    "class SolarSystem(list):\n",
    "    def __init__(self):\n",
    "        self.planets = [planets(i) for i in range(0,11)]        \n",
    "\n",
    "Solsy = SolarSystem()"
   ]
  },
  {
   "cell_type": "code",
   "execution_count": 10,
   "metadata": {},
   "outputs": [
    {
     "data": {
      "text/plain": [
       "0"
      ]
     },
     "execution_count": 10,
     "metadata": {},
     "output_type": "execute_result"
    }
   ],
   "source": [
    "Solsy.planets[0].distance"
   ]
  },
  {
   "cell_type": "code",
   "execution_count": 6,
   "metadata": {},
   "outputs": [],
   "source": [
    "#RK4 computation\n",
    "\n",
    "def f(function):\n",
    "    #first for sun\n",
    "    coord = np.array([function[0],function[1]])\n",
    "    v = np.array([function[2],function[3]])\n",
    "    r0 = np.sqrt(coord[0]**2+coord[1]**2)    \n",
    "    #next_step\n",
    "    fr = v\n",
    "    fv = -mu_value*coord/r0**3\n",
    "\n",
    "    answer = np.array([fr[0],fr[1],fv[0],fv[1]], float)\n",
    "    return answer\n",
    "\n",
    "def rk4(function,h):\n",
    "    k1 = h * f(function)\n",
    "    k2 = h * f(function+k1/2)\n",
    "    k3 = h * f(function+k2/2)\n",
    "    k4 = h * f(function+k3)      \n",
    "    return function + (k1+(2*k2)+(2*k3)+k4)/6\n",
    "\n",
    "\n",
    "#이 밑에가 __main__으로 들어가야 함. \n",
    "def ARK4(functions):    \n",
    "    #\n",
    "    t_end =  t\n",
    "    dt = 1.3e4\n",
    "    end = int(t_end/dt)+1\n",
    "    \n",
    "    #container\n",
    "    global RK4v_xlist \n",
    "    global RK4v_ylist\n",
    "    global RK4v_xvlist\n",
    "    global RK4v_yvlist\n",
    "    global RK4v_tlist\n",
    "    \n",
    "    RK4v_xlist,(RK4v_ylist), (RK4v_xvlist), (RK4v_yvlist), (RK4v_tlist) = [], [], [], [],np.empty(end,float)\n",
    "    RK4v_tlist[0] = 0\n",
    "    \n",
    "    for i in range(0,len(planet_list)):\n",
    "        a,b,c,d = np.empty(end,float),np.empty(end,float),np.empty(end,float),np.empty(end,float)\n",
    "        a[0],b[0],c[0],d[0] =  planet_list[i][0],planet_list[i][1],planet_list[i][2],planet_list[i][3]\n",
    "        RK4v_xlist.append(a)\n",
    "        RK4v_ylist.append(b) \n",
    "        RK4v_xvlist.append(c)\n",
    "        RK4v_yvlist.append(d)\n",
    "\n",
    "    #RK4 calculation \n",
    "    for i in range(end-1):\n",
    "        for z in range(0,len(planet_list)):\n",
    "            functions[z] = rk4(i,functions[z],RK4v_tlist[i],dt,mu_list[z])\n",
    "            RK4v_xlist[z][i+1] = functions[z][0]\n",
    "            RK4v_ylist[z][i+1] = functions[z][1]\n",
    "            RK4v_xvlist[z][i+1] = functions[z][2]\n",
    "            RK4v_yvlist[z][i+1] = functions[z][3]\n",
    "        RK4v_tlist[i+1] = RK4v_tlist[i] + dt\n",
    "\n",
    "    ans = [RK4v_xlist, RK4v_ylist, RK4v_xvlist, RK4v_yvlist, RK4v_tlist]\n",
    "    return ans\n",
    "\n",
    "\n"
   ]
  },
  {
   "cell_type": "code",
   "execution_count": 8,
   "metadata": {},
   "outputs": [
    {
     "data": {
      "text/plain": [
       "'Earth'"
      ]
     },
     "execution_count": 8,
     "metadata": {},
     "output_type": "execute_result"
    }
   ],
   "source": [
    "Solsy.planets[3].PlanetName"
   ]
  },
  {
   "cell_type": "code",
   "execution_count": null,
   "metadata": {},
   "outputs": [],
   "source": []
  }
 ],
 "metadata": {
  "interpreter": {
   "hash": "38740d3277777e2cd7c6c2cc9d8addf5118fdf3f82b1b39231fd12aeac8aee8b"
  },
  "kernelspec": {
   "display_name": "Python 3.10.2 64-bit",
   "language": "python",
   "name": "python3"
  },
  "language_info": {
   "codemirror_mode": {
    "name": "ipython",
    "version": 3
   },
   "file_extension": ".py",
   "mimetype": "text/x-python",
   "name": "python",
   "nbconvert_exporter": "python",
   "pygments_lexer": "ipython3",
   "version": "3.10.2"
  },
  "orig_nbformat": 4
 },
 "nbformat": 4,
 "nbformat_minor": 2
}

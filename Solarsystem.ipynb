{
 "cells": [
  {
   "cell_type": "code",
   "execution_count": 3,
   "metadata": {},
   "outputs": [],
   "source": [
    "import numpy as np \n",
    "import matplotlib.pyplot as plt"
   ]
  },
  {
   "cell_type": "code",
   "execution_count": 1,
   "metadata": {},
   "outputs": [],
   "source": [
    "import numpy as np\n",
    "import matplotlib.pyplot as plt\n",
    "import seaborn as sns"
   ]
  },
  {
   "cell_type": "code",
   "execution_count": 4,
   "metadata": {},
   "outputs": [
    {
     "data": {
      "text/html": [
       "<svg  width=\"550\" height=\"55\"><rect x=\"0\" y=\"0\" width=\"55\" height=\"55\" style=\"fill:#023eff;stroke-width:2;stroke:rgb(255,255,255)\"/><rect x=\"55\" y=\"0\" width=\"55\" height=\"55\" style=\"fill:#ff7c00;stroke-width:2;stroke:rgb(255,255,255)\"/><rect x=\"110\" y=\"0\" width=\"55\" height=\"55\" style=\"fill:#1ac938;stroke-width:2;stroke:rgb(255,255,255)\"/><rect x=\"165\" y=\"0\" width=\"55\" height=\"55\" style=\"fill:#e8000b;stroke-width:2;stroke:rgb(255,255,255)\"/><rect x=\"220\" y=\"0\" width=\"55\" height=\"55\" style=\"fill:#8b2be2;stroke-width:2;stroke:rgb(255,255,255)\"/><rect x=\"275\" y=\"0\" width=\"55\" height=\"55\" style=\"fill:#9f4800;stroke-width:2;stroke:rgb(255,255,255)\"/><rect x=\"330\" y=\"0\" width=\"55\" height=\"55\" style=\"fill:#f14cc1;stroke-width:2;stroke:rgb(255,255,255)\"/><rect x=\"385\" y=\"0\" width=\"55\" height=\"55\" style=\"fill:#a3a3a3;stroke-width:2;stroke:rgb(255,255,255)\"/><rect x=\"440\" y=\"0\" width=\"55\" height=\"55\" style=\"fill:#ffc400;stroke-width:2;stroke:rgb(255,255,255)\"/><rect x=\"495\" y=\"0\" width=\"55\" height=\"55\" style=\"fill:#00d7ff;stroke-width:2;stroke:rgb(255,255,255)\"/></svg>"
      ],
      "text/plain": [
       "[(0.00784313725490196, 0.24313725490196078, 1.0),\n",
       " (1.0, 0.48627450980392156, 0.0),\n",
       " (0.10196078431372549, 0.788235294117647, 0.2196078431372549),\n",
       " (0.9098039215686274, 0.0, 0.043137254901960784),\n",
       " (0.5450980392156862, 0.16862745098039217, 0.8862745098039215),\n",
       " (0.6235294117647059, 0.2823529411764706, 0.0),\n",
       " (0.9450980392156862, 0.2980392156862745, 0.7568627450980392),\n",
       " (0.6392156862745098, 0.6392156862745098, 0.6392156862745098),\n",
       " (1.0, 0.7686274509803922, 0.0),\n",
       " (0.0, 0.8431372549019608, 1.0)]"
      ]
     },
     "execution_count": 4,
     "metadata": {},
     "output_type": "execute_result"
    }
   ],
   "source": [
    "palette = sns.color_palette('bright')\n",
    "palette"
   ]
  },
  {
   "cell_type": "code",
   "execution_count": null,
   "metadata": {},
   "outputs": [],
   "source": [
    "#RK4 METHOD "
   ]
  },
  {
   "cell_type": "code",
   "execution_count": 48,
   "metadata": {},
   "outputs": [],
   "source": [
    "class Planet:\n",
    "    def __init__ (self,PlanetName):\n",
    "        self.PlanetName = PlanetName\n",
    "        self.position = self.__position() #Nowstate position\n",
    "        self.velocity = self.__velocity() #Nowstate velocity\n",
    "        self.mu = self.__mu()\n",
    "        self.distance = self.__distance() #Distance from the Sun \n",
    "        _AU = 1.496e+11                    #1AU to m \n",
    "        _hour = 3600                       #hour to second\n",
    "        _ss = 7.71604938e-8                #sec^2 to hour^2\n",
    "    \n",
    "class PlanetMercury(Planet):\n",
    "    def __distance(self):\n",
    "        return float(1.496e+11*0.39)       #aphelion position\n",
    "    def __position(self):\n",
    "        return float(1.496e+11*0.39)       #initial position\n",
    "    def __velocity(self):\n",
    "        return 47.4e3\n",
    "    def __mu(self):                        #Mu = G*M [m^3/s^2]\n",
    "        return 2.2032e13\n",
    "\n",
    "class PlanetVenus(Planet):\n",
    "    def __distance(self):\n",
    "        return float(1.496e+11*0.723)\n",
    "    def __position(self):\n",
    "        return float(1.496e+11*0.723)\n",
    "    def __velocity(self):\n",
    "        return 35.1e3\n",
    "    def __mu(self):\n",
    "        return 3.24859e14\n",
    "\n",
    "class PlanetEarth(Planet):\n",
    "    def __distance(self):\n",
    "        return float(1.496e+11*1)\n",
    "    def __position(self):\n",
    "        return float(1.496e+11*1)\n",
    "    def __velocity(self):\n",
    "        return 29.8e3\n",
    "    def __mu(self):\n",
    "        return 3.986004418e14\n",
    "\n",
    "class PlanetMars(Planet):\n",
    "    def __distance(self):\n",
    "        return float(1.496e+11*1.524)\n",
    "    def __position(self):\n",
    "        return float(1.496e+11*1.524)\n",
    "    def __velocity(self):\n",
    "        return 24.1e3\n",
    "    def __mu(self):\n",
    "        return 4.282837e13\n",
    "\n",
    "class PlanetJupiter(Planet):\n",
    "    def __distance(self):\n",
    "        return float(1.496e+11*5.203)\n",
    "    def __position(self):\n",
    "        return float(1.496e+11*5.203)\n",
    "    def __velocity(self):\n",
    "        return 13.1e3\n",
    "    def __mu(self):\n",
    "        return 1.26686534e17\n",
    "\n",
    "class PlanetSaturn(Planet):\n",
    "    def __distance(self):\n",
    "        return float(1.496e+11*9.539)\n",
    "    def __position(self):\n",
    "        return float(1.496e+11*9.539)\n",
    "    def __velocity(self):\n",
    "        return 9.7e3\n",
    "    def __mu(self):\n",
    "        return 3.7931187e16\n",
    "\n",
    "class PlanetUranus(Planet):\n",
    "    def __distance(self):\n",
    "        return float(1.496e+11*19.18)\n",
    "    def __position(self):\n",
    "        return float(1.496e+11*19.18)\n",
    "    def __velocity(self):\n",
    "        return 6.8e3\n",
    "    def __mu(self):\n",
    "        return 5.793939e15\n",
    "\n",
    "class PlanetNeptune(Planet):\n",
    "    def __distance(self):\n",
    "        return float(1.496e+11*30.06)\n",
    "    def __position(self):\n",
    "        return float(1.496e+11*30.06)\n",
    "    def __velocity(self):\n",
    "        return 5.4e3\n",
    "    def __mu(self):\n",
    "        return 6.836529e15\n",
    "\n",
    "class PlanetPluto(Planet):\n",
    "    def __distance(self):\n",
    "        return float(1.496e+11*39.53)\n",
    "    def __position(self):\n",
    "        return float(1.496e+11*39.53)\n",
    "    def __velocity(self):\n",
    "        return 4.7e3\n",
    "    def __mu(self):\n",
    "        return 8.71e11\n",
    "\n",
    "class CometHalley(Planet):\n",
    "    def __distance(self):\n",
    "        return float(1.496e+11*35.3)\n",
    "    def __position(self):\n",
    "        return float(1.496e+11*35.3)\n",
    "    def __velocity(self):\n",
    "        return 1000\n",
    "    def __mu(self):\n",
    "        return 6.670e3*2.2"
   ]
  },
  {
   "cell_type": "code",
   "execution_count": 36,
   "metadata": {},
   "outputs": [],
   "source": [
    "def planets(PlanetName):\n",
    "    if PlanetName == 1:\n",
    "        return PlanetMercury('Mercury')"
   ]
  },
  {
   "cell_type": "code",
   "execution_count": 40,
   "metadata": {},
   "outputs": [],
   "source": [
    "M = PlanetMercury('Mercury')"
   ]
  },
  {
   "cell_type": "code",
   "execution_count": 47,
   "metadata": {},
   "outputs": [
    {
     "data": {
      "text/plain": [
       "47400.0"
      ]
     },
     "execution_count": 47,
     "metadata": {},
     "output_type": "execute_result"
    }
   ],
   "source": [
    "M.velocity"
   ]
  },
  {
   "cell_type": "code",
   "execution_count": null,
   "metadata": {},
   "outputs": [],
   "source": []
  }
 ],
 "metadata": {
  "interpreter": {
   "hash": "38740d3277777e2cd7c6c2cc9d8addf5118fdf3f82b1b39231fd12aeac8aee8b"
  },
  "kernelspec": {
   "display_name": "Python 3.10.2 64-bit",
   "language": "python",
   "name": "python3"
  },
  "language_info": {
   "codemirror_mode": {
    "name": "ipython",
    "version": 3
   },
   "file_extension": ".py",
   "mimetype": "text/x-python",
   "name": "python",
   "nbconvert_exporter": "python",
   "pygments_lexer": "ipython3",
   "version": "3.10.2"
  },
  "orig_nbformat": 4
 },
 "nbformat": 4,
 "nbformat_minor": 2
}

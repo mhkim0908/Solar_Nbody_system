{
 "cells": [
  {
   "cell_type": "code",
   "execution_count": 1,
   "metadata": {},
   "outputs": [],
   "source": [
    "import numpy as np\n",
    "import matplotlib.pyplot as plt\n",
    "import seaborn as sns\n",
    "import pandas as pd"
   ]
  },
  {
   "cell_type": "code",
   "execution_count": null,
   "metadata": {},
   "outputs": [
    {
     "data": {
      "text/html": [
       "<svg  width=\"550\" height=\"55\"><rect x=\"0\" y=\"0\" width=\"55\" height=\"55\" style=\"fill:#023eff;stroke-width:2;stroke:rgb(255,255,255)\"/><rect x=\"55\" y=\"0\" width=\"55\" height=\"55\" style=\"fill:#ff7c00;stroke-width:2;stroke:rgb(255,255,255)\"/><rect x=\"110\" y=\"0\" width=\"55\" height=\"55\" style=\"fill:#1ac938;stroke-width:2;stroke:rgb(255,255,255)\"/><rect x=\"165\" y=\"0\" width=\"55\" height=\"55\" style=\"fill:#e8000b;stroke-width:2;stroke:rgb(255,255,255)\"/><rect x=\"220\" y=\"0\" width=\"55\" height=\"55\" style=\"fill:#8b2be2;stroke-width:2;stroke:rgb(255,255,255)\"/><rect x=\"275\" y=\"0\" width=\"55\" height=\"55\" style=\"fill:#9f4800;stroke-width:2;stroke:rgb(255,255,255)\"/><rect x=\"330\" y=\"0\" width=\"55\" height=\"55\" style=\"fill:#f14cc1;stroke-width:2;stroke:rgb(255,255,255)\"/><rect x=\"385\" y=\"0\" width=\"55\" height=\"55\" style=\"fill:#a3a3a3;stroke-width:2;stroke:rgb(255,255,255)\"/><rect x=\"440\" y=\"0\" width=\"55\" height=\"55\" style=\"fill:#ffc400;stroke-width:2;stroke:rgb(255,255,255)\"/><rect x=\"495\" y=\"0\" width=\"55\" height=\"55\" style=\"fill:#00d7ff;stroke-width:2;stroke:rgb(255,255,255)\"/></svg>"
      ],
      "text/plain": [
       "[(0.00784313725490196, 0.24313725490196078, 1.0),\n",
       " (1.0, 0.48627450980392156, 0.0),\n",
       " (0.10196078431372549, 0.788235294117647, 0.2196078431372549),\n",
       " (0.9098039215686274, 0.0, 0.043137254901960784),\n",
       " (0.5450980392156862, 0.16862745098039217, 0.8862745098039215),\n",
       " (0.6235294117647059, 0.2823529411764706, 0.0),\n",
       " (0.9450980392156862, 0.2980392156862745, 0.7568627450980392),\n",
       " (0.6392156862745098, 0.6392156862745098, 0.6392156862745098),\n",
       " (1.0, 0.7686274509803922, 0.0),\n",
       " (0.0, 0.8431372549019608, 1.0)]"
      ]
     },
     "execution_count": 131,
     "metadata": {},
     "output_type": "execute_result"
    }
   ],
   "source": [
    "palette = sns.color_palette('bright')\n",
    "palette"
   ]
  },
  {
   "cell_type": "code",
   "execution_count": null,
   "metadata": {},
   "outputs": [
    {
     "data": {
      "text/html": [
       "<div>\n",
       "<style scoped>\n",
       "    .dataframe tbody tr th:only-of-type {\n",
       "        vertical-align: middle;\n",
       "    }\n",
       "\n",
       "    .dataframe tbody tr th {\n",
       "        vertical-align: top;\n",
       "    }\n",
       "\n",
       "    .dataframe thead th {\n",
       "        text-align: right;\n",
       "    }\n",
       "</style>\n",
       "<table border=\"1\" class=\"dataframe\">\n",
       "  <thead>\n",
       "    <tr style=\"text-align: right;\">\n",
       "      <th></th>\n",
       "      <th>distance</th>\n",
       "      <th>velocity</th>\n",
       "      <th>mu</th>\n",
       "    </tr>\n",
       "    <tr>\n",
       "      <th>name</th>\n",
       "      <th></th>\n",
       "      <th></th>\n",
       "      <th></th>\n",
       "    </tr>\n",
       "  </thead>\n",
       "  <tbody>\n",
       "    <tr>\n",
       "      <th>sun</th>\n",
       "      <td>0</td>\n",
       "      <td>0</td>\n",
       "      <td>132712440018000000000</td>\n",
       "    </tr>\n",
       "    <tr>\n",
       "      <th>mercury</th>\n",
       "      <td>58344000000</td>\n",
       "      <td>47400</td>\n",
       "      <td>22032000000000</td>\n",
       "    </tr>\n",
       "    <tr>\n",
       "      <th>venus</th>\n",
       "      <td>108160800000</td>\n",
       "      <td>35100</td>\n",
       "      <td>324859000000000</td>\n",
       "    </tr>\n",
       "    <tr>\n",
       "      <th>earth</th>\n",
       "      <td>149600000000</td>\n",
       "      <td>29800</td>\n",
       "      <td>398600441800000</td>\n",
       "    </tr>\n",
       "    <tr>\n",
       "      <th>mars</th>\n",
       "      <td>227990400000</td>\n",
       "      <td>24100</td>\n",
       "      <td>42828370000000</td>\n",
       "    </tr>\n",
       "  </tbody>\n",
       "</table>\n",
       "</div>"
      ],
      "text/plain": [
       "             distance  velocity                      mu\n",
       "name                                                   \n",
       "sun                 0         0  132712440018000000000 \n",
       "mercury   58344000000     47400         22032000000000 \n",
       "venus    108160800000     35100        324859000000000 \n",
       "earth    149600000000     29800        398600441800000 \n",
       "mars     227990400000     24100         42828370000000 "
      ]
     },
     "execution_count": 132,
     "metadata": {},
     "output_type": "execute_result"
    }
   ],
   "source": [
    "solar_data = pd.DataFrame(pd.read_csv('C:/Users/mhkim/OneDrive/문서/GitHub/Solar_Nbody_system/solarsystem.csv', sep=','))\n",
    "solar_data.set_index('name',inplace=True,drop=True)\n",
    "solar_data.head()"
   ]
  },
  {
   "cell_type": "code",
   "execution_count": null,
   "metadata": {},
   "outputs": [],
   "source": [
    "#object class part\n",
    "\n",
    "class Planet:\n",
    "\n",
    "    def __init__ (self,PlanetName):\n",
    "        __solar_data = pd.DataFrame(pd.read_csv('C:/Users/mhkim/OneDrive/문서/GitHub/Solar_Nbody_system/solarsystem.csv', sep=','))\n",
    "        __solar_data.set_index('name',inplace=True,drop=True)    \n",
    "        __pos = np.array([0,0],float)\n",
    "        __vel = np.array([0,0],float)\n",
    "        self.PlanetName = str(PlanetName)\n",
    "        self.position = __pos+np.array([__solar_data.loc[self.PlanetName][0],0],float) #Nowstate position\n",
    "        self.velocity = __vel+np.array([__solar_data.loc[self.PlanetName][1],0],float) #Nowstate velocity\n",
    "        self.mu = __solar_data.loc[self.PlanetName][2]\n",
    "        self.distance = __solar_data.loc[self.PlanetName][0] #Distance from the Sun \n",
    "        \n",
    "    def update (self, new_position, new_velocity):      \n",
    "        self.position += new_position\n",
    "        self.velocity += new_velocity\n",
    "\n",
    "    def info(self):\n",
    "        print('Planet Name:',self.PlanetName)\n",
    "        print('Distance From Sun:',self.distance)\n",
    "        print('Now Coordinate:',self.position)\n",
    "        print('Now Velocity:',self.velocity)\n",
    "        print('Planet standard gravitational parameter (mu):',self.mu)\n",
    "\n",
    "    def __str__(self):\n",
    "        return (\"This is '{0}' \".format(self.PlanetName))\n",
    "\n",
    "class Solarsystem(list):\n",
    "    def __init__(self):\n",
    "        super().__init__\n",
    "        self.extend(Planet(name) for name in solar_data.index )"
   ]
  },
  {
   "cell_type": "code",
   "execution_count": null,
   "metadata": {},
   "outputs": [],
   "source": [
    "#Calculation function part\n",
    "\n",
    "def f(data,indexnumber):\n",
    "    coord = np.split(data,2)[0]\n",
    "    v = np.split(data,2)[1]\n",
    "    dummy = Solarsystem()\n",
    "    del dummy[indexnumber]\n",
    "    #next position\n",
    "    fr = v\n",
    "    #next velocity \n",
    "    fv = np.array([0,0],float)\n",
    "    for z in range(0,len(dummy)):\n",
    "        dist = (np.abs(np.sqrt(np.sum(dummy[z].position**2)) - np.sqrt(np.sum(coord**2)))) \n",
    "        fv += float(dummy[z].mu)*coord/(dist**3)                    \n",
    "        \n",
    "    answer = np.concatenate((fr,fv),axis=None,dtype=float)\n",
    "    return answer\n",
    "\n",
    "def update(function,h,k):\n",
    "    data =  np.concatenate((function.position,function.velocity),axis=None, dtype=float)     \n",
    "    k1 = h * f(data,k)\n",
    "    k2 = h * f(data+k1/2,k)\n",
    "    k3 = h * f(data+k2/2,k)\n",
    "    k4 = h * f(data+k3,k)\n",
    "    newdata = data + (k1+(2*k2)+(2*k3)+k4)/6\n",
    "    function.update(np.split(newdata,2)[0],np.split(newdata,2)[1])\n",
    "    \n",
    "\n",
    "    \n"
   ]
  },
  {
   "cell_type": "code",
   "execution_count": null,
   "metadata": {},
   "outputs": [],
   "source": [
    "#Main Part\n",
    "if __name__ == '__main__':\n",
    "    fig = plt.figure(figsize=(15,15))\n",
    "    ax = fig.add_subplot(1, 1, 1)\n",
    "\n",
    "\n",
    "    solsy = Solarsystem()       #call solarsystem\n",
    "\n",
    "    t0 = 0\n",
    "    t_end =  31600000             #initial time setting\n",
    "    dt = 1.3e4                  #step size\n",
    "    end = int(t_end/dt)+1\n",
    "     \n",
    "    t = t0\n",
    "    for i in range(end-1):\n",
    "        for k in range(1,len(solsy)):\n",
    "            plt.scatter(solsy[k].position[0],solsy[k].position[1])\n",
    "            update(solsy[k],dt,k)\n",
    "            \n",
    "        t += dt\n",
    "\n",
    "\n",
    "    legend_properties = {'weight':'bold','size':'10'}       \n",
    "    planet_names = ['Mercury','Venus','Earth','Mars','Jupiter','Saturn','Uranus','Neptune','Pluto','Halley']\n",
    "    ax.set_xlabel('x location(AU)',fontsize = 14, fontweight='bold',loc='center')\n",
    "    ax.set_ylabel('y location(AU)',rotation=90, fontsize = 14, fontweight='bold',loc='center')\n",
    "    \n",
    "    plt.legend(loc=1,frameon=False, prop=legend_properties)\n",
    "    plt.show()\n",
    "\n",
    "    "
   ]
  },
  {
   "cell_type": "code",
   "execution_count": 150,
   "metadata": {},
   "outputs": [
    {
     "name": "stdout",
     "output_type": "stream",
     "text": [
      "Planet Name: halley\n",
      "Distance From Sun: 5280880000000\n",
      "Now Coordinate: [5.38065083e+102 0.00000000e+000]\n",
      "Now Velocity: [1.01855459e+93 0.00000000e+00]\n",
      "Planet standard gravitational parameter (mu): 14674 \n"
     ]
    }
   ],
   "source": [
    "solsy[10].info()"
   ]
  }
 ],
 "metadata": {
  "interpreter": {
   "hash": "38740d3277777e2cd7c6c2cc9d8addf5118fdf3f82b1b39231fd12aeac8aee8b"
  },
  "kernelspec": {
   "display_name": "Python 3.10.2 64-bit",
   "language": "python",
   "name": "python3"
  },
  "language_info": {
   "codemirror_mode": {
    "name": "ipython",
    "version": 3
   },
   "file_extension": ".py",
   "mimetype": "text/x-python",
   "name": "python",
   "nbconvert_exporter": "python",
   "pygments_lexer": "ipython3",
   "version": "3.10.2"
  },
  "orig_nbformat": 4
 },
 "nbformat": 4,
 "nbformat_minor": 2
}

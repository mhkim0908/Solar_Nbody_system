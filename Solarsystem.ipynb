{
 "cells": [
  {
   "cell_type": "code",
   "execution_count": null,
   "metadata": {},
   "outputs": [],
   "source": [
    "#Main Part\n",
    "if __name__ == '__main__':\n",
    "\n",
    "    import multiprocessing      #for multiprocessing\n",
    "    from functions import *\n",
    "    import matplotlib.pyplot as plt\n",
    "    import pandas as pd\n",
    "    import copy\n",
    "\n",
    "    p_conn, c_conn =  multiprocessing.Pipe()\n",
    "    procs = []\n",
    "\n",
    "    fig = plt.figure(figsize=(15,15))\n",
    "    ax = fig.add_subplot(1, 1, 1)\n",
    "    \n",
    "    solar_data = pd.DataFrame(pd.read_csv('C:/Users/mhkim/OneDrive/문서/GitHub/Solar_Nbody_system/solarsystem.csv', sep=','))\n",
    "    solar_data.set_index('name',inplace=True,drop=True)\n",
    "    \n",
    "    solsy = Solarsystem(solar_data)      #call solarsystem\n",
    "\n",
    "    t_end =  31600000                   #initial time setting\n",
    "    dt = 1.3e6                          #step size\n",
    "    end = int(t_end/dt)+1\n",
    "    \n",
    "    for i in range(end-1):\n",
    "        dummy = copy.deepcopy(solsy)\n",
    "        for k in range(1,len(solsy)):\n",
    "            #plt.scatter(solsy[k].position[0],solsy[k].position[1])\n",
    "            p_conn.send(solsy)\n",
    "            p = multiprocessing.Process(target=update, args=(c_conn,dummy,solsy[k],dt,k))    \n",
    "            p.start()\n",
    "            print(solsy.position())\n",
    "            procs.append(p)\n",
    "\n",
    "        for p in procs:\n",
    "            p.join()\n",
    "            \n",
    "   \n",
    "    plt.show()\n",
    "\n",
    "\n",
    "    "
   ]
  },
  {
   "cell_type": "code",
   "execution_count": null,
   "metadata": {},
   "outputs": [],
   "source": []
  }
 ],
 "metadata": {
  "interpreter": {
   "hash": "38740d3277777e2cd7c6c2cc9d8addf5118fdf3f82b1b39231fd12aeac8aee8b"
  },
  "kernelspec": {
   "display_name": "Python 3.10.2 64-bit",
   "language": "python",
   "name": "python3"
  },
  "language_info": {
   "codemirror_mode": {
    "name": "ipython",
    "version": 3
   },
   "file_extension": ".py",
   "mimetype": "text/x-python",
   "name": "python",
   "nbconvert_exporter": "python",
   "pygments_lexer": "ipython3",
   "version": "3.10.2"
  },
  "orig_nbformat": 4
 },
 "nbformat": 4,
 "nbformat_minor": 2
}

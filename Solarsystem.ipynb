{
 "cells": [
  {
   "cell_type": "code",
   "execution_count": 1,
   "metadata": {},
   "outputs": [],
   "source": [
    "import numpy as np \n",
    "import matplotlib.pyplot as plt"
   ]
  },
  {
   "cell_type": "code",
   "execution_count": 2,
   "metadata": {},
   "outputs": [],
   "source": [
    "import numpy as np\n",
    "import matplotlib.pyplot as plt\n",
    "import seaborn as sns"
   ]
  },
  {
   "cell_type": "code",
   "execution_count": 3,
   "metadata": {},
   "outputs": [
    {
     "data": {
      "text/html": [
       "<svg  width=\"550\" height=\"55\"><rect x=\"0\" y=\"0\" width=\"55\" height=\"55\" style=\"fill:#023eff;stroke-width:2;stroke:rgb(255,255,255)\"/><rect x=\"55\" y=\"0\" width=\"55\" height=\"55\" style=\"fill:#ff7c00;stroke-width:2;stroke:rgb(255,255,255)\"/><rect x=\"110\" y=\"0\" width=\"55\" height=\"55\" style=\"fill:#1ac938;stroke-width:2;stroke:rgb(255,255,255)\"/><rect x=\"165\" y=\"0\" width=\"55\" height=\"55\" style=\"fill:#e8000b;stroke-width:2;stroke:rgb(255,255,255)\"/><rect x=\"220\" y=\"0\" width=\"55\" height=\"55\" style=\"fill:#8b2be2;stroke-width:2;stroke:rgb(255,255,255)\"/><rect x=\"275\" y=\"0\" width=\"55\" height=\"55\" style=\"fill:#9f4800;stroke-width:2;stroke:rgb(255,255,255)\"/><rect x=\"330\" y=\"0\" width=\"55\" height=\"55\" style=\"fill:#f14cc1;stroke-width:2;stroke:rgb(255,255,255)\"/><rect x=\"385\" y=\"0\" width=\"55\" height=\"55\" style=\"fill:#a3a3a3;stroke-width:2;stroke:rgb(255,255,255)\"/><rect x=\"440\" y=\"0\" width=\"55\" height=\"55\" style=\"fill:#ffc400;stroke-width:2;stroke:rgb(255,255,255)\"/><rect x=\"495\" y=\"0\" width=\"55\" height=\"55\" style=\"fill:#00d7ff;stroke-width:2;stroke:rgb(255,255,255)\"/></svg>"
      ],
      "text/plain": [
       "[(0.00784313725490196, 0.24313725490196078, 1.0),\n",
       " (1.0, 0.48627450980392156, 0.0),\n",
       " (0.10196078431372549, 0.788235294117647, 0.2196078431372549),\n",
       " (0.9098039215686274, 0.0, 0.043137254901960784),\n",
       " (0.5450980392156862, 0.16862745098039217, 0.8862745098039215),\n",
       " (0.6235294117647059, 0.2823529411764706, 0.0),\n",
       " (0.9450980392156862, 0.2980392156862745, 0.7568627450980392),\n",
       " (0.6392156862745098, 0.6392156862745098, 0.6392156862745098),\n",
       " (1.0, 0.7686274509803922, 0.0),\n",
       " (0.0, 0.8431372549019608, 1.0)]"
      ]
     },
     "execution_count": 3,
     "metadata": {},
     "output_type": "execute_result"
    }
   ],
   "source": [
    "palette = sns.color_palette('bright')\n",
    "palette"
   ]
  },
  {
   "cell_type": "code",
   "execution_count": 47,
   "metadata": {},
   "outputs": [],
   "source": [
    "#class Planets \n",
    "\n",
    "class Planet:\n",
    "    def __init__ (self,PlanetName):\n",
    "        self.PlanetName = PlanetName\n",
    "        self.position = self._position #Nowstate position\n",
    "        self.velocity = self._velocity #Nowstate velocity\n",
    "        self.mu = self._mu()\n",
    "        self.distance = self._distance() #Distance from the Sun \n",
    "        _AU = 1.496e+11                    #1AU to m \n",
    "        _hour = 3600                       #hour to second\n",
    "        _ss = 7.71604938e-8                #sec^2 to hour^2\n",
    "\n",
    "    def info(self):\n",
    "        print('Planet Name:',self.PlanetName)\n",
    "        print('Distance From Sun:',self.distance)\n",
    "        print('Now Coordinate:',self.position)\n",
    "        print('Now Velocity:',self.velocity)\n",
    "        print('Planet standard gravitational parameter (mu):',self.mu)\n",
    "\n",
    "class Sun(Planet):\n",
    "    def _distance(self):\n",
    "        return 0\n",
    "    def _position(self):\n",
    "        return 0\n",
    "    def _velocity(self):                #Sun will be pinned \n",
    "        return 0\n",
    "    def _mu(self):\n",
    "        return 1.32712440018e20\n",
    "\n",
    "class PlanetMercury(Planet):\n",
    "    def __init__(self):\n",
    "        super().__init__(self.PlanetName)\n",
    "        self._position = \n",
    "\n",
    "\n",
    "    def _distance(self):      #aphelion position from sun\n",
    "        return float(1.496e+11*0.39)\n",
    "\n",
    "    def add_position(self,fr=[0,0]):\n",
    "        self.fr = fr\n",
    "        position = [float(1.496e+11*0.39)+self.fr[0],0+self.fr[1]]  #initial position  from sun \n",
    "        return position      \n",
    "\n",
    "    def add_velocity(self,fv=[0,0]):\n",
    "        self.fv = fv\n",
    "        velocity = 47.4e3\n",
    "        return velocity\n",
    "\n",
    "    def _mu(self):                        #Mu = G*M [m^3/s^2]\n",
    "        return 2.2032e13"
   ]
  },
  {
   "cell_type": "code",
   "execution_count": 48,
   "metadata": {},
   "outputs": [
    {
     "name": "stdout",
     "output_type": "stream",
     "text": [
      "Planet Name: mc\n",
      "Distance From Sun: 58344000000.0\n",
      "Now Coordinate: [58344000000.0, 0]\n",
      "Now Velocity: 47400.0\n",
      "Planet standard gravitational parameter (mu): 22032000000000.0\n"
     ]
    }
   ],
   "source": [
    "ccc = PlanetMercury('mc')\n",
    "ccc.info()"
   ]
  },
  {
   "cell_type": "code",
   "execution_count": 50,
   "metadata": {},
   "outputs": [
    {
     "name": "stdout",
     "output_type": "stream",
     "text": [
      "Planet Name: mc\n",
      "Distance From Sun: 58344000000.0\n",
      "Now Coordinate: [58344000000.0, 0]\n",
      "Now Velocity: 47400.0\n",
      "Planet standard gravitational parameter (mu): 22032000000000.0\n"
     ]
    }
   ],
   "source": [
    "mycalc = [0,10]\n",
    "ccc._position(mycalc)\n",
    "ccc.info()"
   ]
  },
  {
   "cell_type": "code",
   "execution_count": 22,
   "metadata": {},
   "outputs": [],
   "source": [
    "#class Planets \n",
    "\n",
    "class Planet:\n",
    "    def __init__ (self,PlanetName):\n",
    "        self.PlanetName = PlanetName\n",
    "        self.position = self._position() #Nowstate position\n",
    "        self.velocity = self._velocity() #Nowstate velocity\n",
    "        self.mu = self._mu()\n",
    "        self.distance = self._distance() #Distance from the Sun \n",
    "        _AU = 1.496e+11                    #1AU to m \n",
    "        _hour = 3600                       #hour to second\n",
    "        _ss = 7.71604938e-8                #sec^2 to hour^2\n",
    "\n",
    "    def info(self):\n",
    "        print('Planet Name:',self.PlanetName)\n",
    "        print('Distance From Sun:',self.distance)\n",
    "        print('Now Coordinate:',self.position)\n",
    "        print('Now Velocity:',self.velocity)\n",
    "        print('Planet standard gravitational parameter (mu):',self.mu)\n",
    "\n",
    "\n",
    "class Sun(Planet):\n",
    "\n",
    "    def _distance(self):\n",
    "        return 0\n",
    "    def _position(self):\n",
    "        return 0\n",
    "    def _velocity(self):                #Sun will be pinned \n",
    "        return 0\n",
    "    def _mu(self):\n",
    "        return 1.32712440018e20\n",
    "\n",
    "class PlanetMercury(Planet):\n",
    "\n",
    "    def _distance(self):\n",
    "        distance = float(1.496e+11*0.39)      #aphelion position from sun\n",
    "        return distance\n",
    "\n",
    "    def _position(self):\n",
    "        position = [float(1.496e+11*0.39),0]  #initial position  from sun \n",
    "        return position      \n",
    "\n",
    "    def _velocity(self):\n",
    "        velocity = 47.4e3\n",
    "        return velocity\n",
    "\n",
    "    def _mu(self):                        #Mu = G*M [m^3/s^2]\n",
    "        mu = 2.2032e13\n",
    "        return mu\n",
    "\n",
    "    def updateposition(self,addvalue):\n",
    "        self.addvalue = addvalue\n",
    "        \n",
    "\n",
    "class PlanetVenus(Planet):\n",
    "    def _distance(self):\n",
    "        return float(1.496e+11*0.723)\n",
    "    def _position(self):\n",
    "        return float(1.496e+11*0.723)\n",
    "    def _velocity(self):\n",
    "        return 35.1e3\n",
    "    def _mu(self):\n",
    "        return 3.24859e14\n",
    "\n",
    "class PlanetEarth(Planet):\n",
    "    def _distance(self):\n",
    "        return float(1.496e+11*1)\n",
    "    def _position(self):\n",
    "        return float(1.496e+11*1)\n",
    "    def _velocity(self):\n",
    "        return 29.8e3\n",
    "    def _mu(self):\n",
    "        return 3.986004418e14\n",
    "\n",
    "class PlanetMars(Planet):\n",
    "    def _distance(self):\n",
    "        return float(1.496e+11*1.524)\n",
    "    def _position(self):\n",
    "        return float(1.496e+11*1.524)\n",
    "    def _velocity(self):\n",
    "        return 24.1e3\n",
    "    def _mu(self):\n",
    "        return 4.282837e13\n",
    "\n",
    "class PlanetJupiter(Planet):\n",
    "    def _distance(self):\n",
    "        return float(1.496e+11*5.203)\n",
    "    def _position(self):\n",
    "        return float(1.496e+11*5.203)\n",
    "    def _velocity(self):\n",
    "        return 13.1e3\n",
    "    def _mu(self):\n",
    "        return 1.26686534e17\n",
    "\n",
    "class PlanetSaturn(Planet):\n",
    "    def _distance(self):\n",
    "        return float(1.496e+11*9.539)\n",
    "    def _position(self):\n",
    "        return float(1.496e+11*9.539)\n",
    "    def _velocity(self):\n",
    "        return 9.7e3\n",
    "    def _mu(self):\n",
    "        return 3.7931187e16\n",
    "\n",
    "class PlanetUranus(Planet):\n",
    "    def _distance(self):\n",
    "        return float(1.496e+11*19.18)\n",
    "    def _position(self):\n",
    "        return float(1.496e+11*19.18)\n",
    "    def _velocity(self):\n",
    "        return 6.8e3\n",
    "    def _mu(self):\n",
    "        return 5.793939e15\n",
    "\n",
    "class PlanetNeptune(Planet):\n",
    "    def _distance(self):\n",
    "        return float(1.496e+11*30.06)\n",
    "    def _position(self):\n",
    "        return float(1.496e+11*30.06)\n",
    "    def _velocity(self):\n",
    "        return 5.4e3\n",
    "    def _mu(self):\n",
    "        return 6.836529e15\n",
    "\n",
    "class PlanetPluto(Planet):\n",
    "    def _distance(self):\n",
    "        return float(1.496e+11*39.53)\n",
    "    def _position(self):\n",
    "        return float(1.496e+11*39.53)\n",
    "    def _velocity(self):\n",
    "        return 4.7e3\n",
    "    def _mu(self):\n",
    "        return 8.71e11\n",
    "\n",
    "class CometHalley(Planet):\n",
    "    def _distance(self):\n",
    "        return float(1.496e+11*35.3)\n",
    "    def _position(self):\n",
    "        return float(1.496e+11*35.3),0\n",
    "    def _velocity(self):\n",
    "        return 1000\n",
    "    def _mu(self):\n",
    "        return 6.670e3*2.2"
   ]
  },
  {
   "cell_type": "code",
   "execution_count": null,
   "metadata": {},
   "outputs": [],
   "source": []
  },
  {
   "cell_type": "code",
   "execution_count": 28,
   "metadata": {},
   "outputs": [
    {
     "data": {
      "text/plain": [
       "0"
      ]
     },
     "execution_count": 28,
     "metadata": {},
     "output_type": "execute_result"
    }
   ],
   "source": []
  },
  {
   "cell_type": "code",
   "execution_count": 5,
   "metadata": {},
   "outputs": [],
   "source": [
    "#factoring planets \n",
    "def planets(PlanetName):\n",
    "    if PlanetName == 0:\n",
    "        return Sun('Sun')\n",
    "    elif PlanetName == 1:\n",
    "        return PlanetMercury('Mercury')\n",
    "    elif PlanetName == 2:\n",
    "        return PlanetVenus('Venus')\n",
    "    elif PlanetName == 3:\n",
    "        return PlanetEarth('Earth')\n",
    "    elif PlanetName == 4:\n",
    "        return PlanetMars('Mars')\n",
    "    elif PlanetName == 5:\n",
    "        return PlanetJupiter('Jupiter')\n",
    "    elif PlanetName == 6:\n",
    "        return PlanetSaturn('Saturn')\n",
    "    elif PlanetName == 7:\n",
    "        return PlanetUranus('Uranus')\n",
    "    elif PlanetName == 8:\n",
    "        return PlanetNeptune('Neptune')\n",
    "    elif PlanetName == 9:\n",
    "        return PlanetPluto('Pluto')\n",
    "    elif PlanetName == 10:\n",
    "        return CometHalley('Halley')\n",
    "    else:\n",
    "        raise Exception(\"There is no such planet in the solar system.\")\n",
    "\n",
    "\n",
    "class SolarSystem(list):\n",
    "    def __init__(self):\n",
    "        self.planets = [planets(i) for i in range(0,11)]        \n",
    "\n",
    "Solsy = SolarSystem()"
   ]
  },
  {
   "cell_type": "code",
   "execution_count": 10,
   "metadata": {},
   "outputs": [
    {
     "data": {
      "text/plain": [
       "0"
      ]
     },
     "execution_count": 10,
     "metadata": {},
     "output_type": "execute_result"
    }
   ],
   "source": [
    "Solsy.planets[0].distance"
   ]
  },
  {
   "cell_type": "code",
   "execution_count": 6,
   "metadata": {},
   "outputs": [],
   "source": [
    "#RK4 computation\n",
    "\n",
    "def f(function):\n",
    "    #first for sun\n",
    "    coord = np.array([function[0],function[1]])\n",
    "    v = np.array([function[2],function[3]])\n",
    "    r0 = np.sqrt(coord[0]**2+coord[1]**2)    \n",
    "    #next_step\n",
    "    fr = v\n",
    "    fv = -mu_value*coord/r0**3\n",
    "\n",
    "    answer = np.array([fr[0],fr[1],fv[0],fv[1]], float)\n",
    "    return answer\n",
    "\n",
    "def rk4(function,h):\n",
    "    k1 = h * f(function)\n",
    "    k2 = h * f(function+k1/2)\n",
    "    k3 = h * f(function+k2/2)\n",
    "    k4 = h * f(function+k3)      \n",
    "    return function + (k1+(2*k2)+(2*k3)+k4)/6\n",
    "\n",
    "\n",
    "#이 밑에가 __main__으로 들어가야 함. \n",
    "def ARK4(functions):    \n",
    "    #\n",
    "    t_end =  t\n",
    "    dt = 1.3e4\n",
    "    end = int(t_end/dt)+1\n",
    "    \n",
    "    #container\n",
    "    global RK4v_xlist \n",
    "    global RK4v_ylist\n",
    "    global RK4v_xvlist\n",
    "    global RK4v_yvlist\n",
    "    global RK4v_tlist\n",
    "    \n",
    "    RK4v_xlist,(RK4v_ylist), (RK4v_xvlist), (RK4v_yvlist), (RK4v_tlist) = [], [], [], [],np.empty(end,float)\n",
    "    RK4v_tlist[0] = 0\n",
    "    \n",
    "    for i in range(0,len(planet_list)):\n",
    "        a,b,c,d = np.empty(end,float),np.empty(end,float),np.empty(end,float),np.empty(end,float)\n",
    "        a[0],b[0],c[0],d[0] =  planet_list[i][0],planet_list[i][1],planet_list[i][2],planet_list[i][3]\n",
    "        RK4v_xlist.append(a)\n",
    "        RK4v_ylist.append(b) \n",
    "        RK4v_xvlist.append(c)\n",
    "        RK4v_yvlist.append(d)\n",
    "\n",
    "    #RK4 calculation \n",
    "    for i in range(end-1):\n",
    "        for z in range(0,len(planet_list)):\n",
    "            functions[z] = rk4(i,functions[z],RK4v_tlist[i],dt,mu_list[z])\n",
    "            RK4v_xlist[z][i+1] = functions[z][0]\n",
    "            RK4v_ylist[z][i+1] = functions[z][1]\n",
    "            RK4v_xvlist[z][i+1] = functions[z][2]\n",
    "            RK4v_yvlist[z][i+1] = functions[z][3]\n",
    "        RK4v_tlist[i+1] = RK4v_tlist[i] + dt\n",
    "\n",
    "    ans = [RK4v_xlist, RK4v_ylist, RK4v_xvlist, RK4v_yvlist, RK4v_tlist]\n",
    "    return ans\n",
    "\n",
    "\n"
   ]
  },
  {
   "cell_type": "code",
   "execution_count": 8,
   "metadata": {},
   "outputs": [
    {
     "data": {
      "text/plain": [
       "'Earth'"
      ]
     },
     "execution_count": 8,
     "metadata": {},
     "output_type": "execute_result"
    }
   ],
   "source": [
    "Solsy.planets[3].PlanetName"
   ]
  },
  {
   "cell_type": "code",
   "execution_count": null,
   "metadata": {},
   "outputs": [],
   "source": []
  }
 ],
 "metadata": {
  "interpreter": {
   "hash": "38740d3277777e2cd7c6c2cc9d8addf5118fdf3f82b1b39231fd12aeac8aee8b"
  },
  "kernelspec": {
   "display_name": "Python 3.10.2 64-bit",
   "language": "python",
   "name": "python3"
  },
  "language_info": {
   "codemirror_mode": {
    "name": "ipython",
    "version": 3
   },
   "file_extension": ".py",
   "mimetype": "text/x-python",
   "name": "python",
   "nbconvert_exporter": "python",
   "pygments_lexer": "ipython3",
   "version": "3.10.2"
  },
  "orig_nbformat": 4
 },
 "nbformat": 4,
 "nbformat_minor": 2
}

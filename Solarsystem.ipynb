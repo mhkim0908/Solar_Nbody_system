{
 "cells": [
  {
   "cell_type": "code",
   "execution_count": 1,
   "metadata": {},
   "outputs": [],
   "source": [
    "import numpy as np\n",
    "import matplotlib.pyplot as plt\n",
    "import pandas as pd\n",
    "import copy"
   ]
  },
  {
   "cell_type": "code",
   "execution_count": 2,
   "metadata": {},
   "outputs": [
    {
     "data": {
      "text/html": [
       "<div>\n",
       "<style scoped>\n",
       "    .dataframe tbody tr th:only-of-type {\n",
       "        vertical-align: middle;\n",
       "    }\n",
       "\n",
       "    .dataframe tbody tr th {\n",
       "        vertical-align: top;\n",
       "    }\n",
       "\n",
       "    .dataframe thead th {\n",
       "        text-align: right;\n",
       "    }\n",
       "</style>\n",
       "<table border=\"1\" class=\"dataframe\">\n",
       "  <thead>\n",
       "    <tr style=\"text-align: right;\">\n",
       "      <th></th>\n",
       "      <th>distance</th>\n",
       "      <th>velocity</th>\n",
       "      <th>mu</th>\n",
       "    </tr>\n",
       "    <tr>\n",
       "      <th>name</th>\n",
       "      <th></th>\n",
       "      <th></th>\n",
       "      <th></th>\n",
       "    </tr>\n",
       "  </thead>\n",
       "  <tbody>\n",
       "    <tr>\n",
       "      <th>sun</th>\n",
       "      <td>0</td>\n",
       "      <td>0</td>\n",
       "      <td>132712440018000000000</td>\n",
       "    </tr>\n",
       "    <tr>\n",
       "      <th>mercury</th>\n",
       "      <td>58344000000</td>\n",
       "      <td>47400</td>\n",
       "      <td>22032000000000</td>\n",
       "    </tr>\n",
       "    <tr>\n",
       "      <th>venus</th>\n",
       "      <td>108160800000</td>\n",
       "      <td>35100</td>\n",
       "      <td>324859000000000</td>\n",
       "    </tr>\n",
       "    <tr>\n",
       "      <th>earth</th>\n",
       "      <td>149600000000</td>\n",
       "      <td>29800</td>\n",
       "      <td>398600441800000</td>\n",
       "    </tr>\n",
       "    <tr>\n",
       "      <th>mars</th>\n",
       "      <td>227990400000</td>\n",
       "      <td>24100</td>\n",
       "      <td>42828370000000</td>\n",
       "    </tr>\n",
       "  </tbody>\n",
       "</table>\n",
       "</div>"
      ],
      "text/plain": [
       "             distance  velocity                      mu\n",
       "name                                                   \n",
       "sun                 0         0  132712440018000000000 \n",
       "mercury   58344000000     47400         22032000000000 \n",
       "venus    108160800000     35100        324859000000000 \n",
       "earth    149600000000     29800        398600441800000 \n",
       "mars     227990400000     24100         42828370000000 "
      ]
     },
     "execution_count": 2,
     "metadata": {},
     "output_type": "execute_result"
    }
   ],
   "source": [
    "solar_data = pd.DataFrame(pd.read_csv('C:/Users/mhkim/OneDrive/문서/GitHub/Solar_Nbody_system/solarsystem.csv', sep=','))\n",
    "solar_data.set_index('name',inplace=True,drop=True)\n",
    "solar_data.head()"
   ]
  },
  {
   "cell_type": "code",
   "execution_count": 3,
   "metadata": {},
   "outputs": [],
   "source": [
    "#object class part\n",
    "\n",
    "class Planet:\n",
    "\n",
    "    def __init__ (self,PlanetName):\n",
    "        \n",
    "        __solar_data = pd.DataFrame(pd.read_csv('C:/Users/mhkim/OneDrive/문서/GitHub/Solar_Nbody_system/solarsystem.csv', sep=','))\n",
    "        __solar_data.set_index('name',inplace=True,drop=True)    \n",
    "        __pos = np.array([0,0],float)\n",
    "        __vel = np.array([0,0],float)\n",
    "        \n",
    "        self.PlanetName = str(PlanetName)\n",
    "        \n",
    "        self.position = __pos+np.array([__solar_data.loc[self.PlanetName][0],0],float) #Nowstate position\n",
    "        self.velocity = __vel+np.array([0,__solar_data.loc[self.PlanetName][1]],float) #Nowstate velocity\n",
    "        \n",
    "        self.mu = float(__solar_data.loc[self.PlanetName][2])\n",
    "        self.distance = float(__solar_data.loc[self.PlanetName][0]) #Distance from the Sun \n",
    "        \n",
    "    def update (self, new_position, new_velocity):      \n",
    "        self.position += new_position\n",
    "        self.velocity += new_velocity\n",
    "\n",
    "    def info(self):\n",
    "        print('Planet Name:',self.PlanetName)\n",
    "        print('Distance From Sun:',self.distance)\n",
    "        print('Now Coordinate:',self.position)\n",
    "        print('Now Velocity:',self.velocity)\n",
    "        print('Planet standard gravitational parameter (mu):',self.mu)\n",
    "\n",
    "    def __str__(self):\n",
    "        return (\"This is '{0}' \".format(self.PlanetName))\n",
    "\n",
    "class Solarsystem(list):\n",
    "    def __init__(self):\n",
    "        super().__init__\n",
    "        self.extend(Planet(name) for name in solar_data.index )\n",
    "\n",
    "    def position(self):\n",
    "        for i in range(len(self)):\n",
    "            print (f\" {self[i].PlanetName}\" , self[i].position)\n",
    "        "
   ]
  },
  {
   "cell_type": "code",
   "execution_count": 9,
   "metadata": {},
   "outputs": [],
   "source": [
    "#Calculation function part\n",
    "\n",
    "def f(m_obj,data,planetindexnumber):\n",
    "    \n",
    "    coord = np.split(data,2)[0]\n",
    "    v = np.split(data,2)[1]\n",
    "    \n",
    "    r0 = np.sqrt(np.sum(coord**2))\n",
    "    \n",
    "    #next position\n",
    "    fr = v\n",
    "    \n",
    "    #next velocity \n",
    "    fv = np.array([0,0],float)\n",
    "\n",
    "    for z in range(0,len(m_obj)):\n",
    "        if z == planetindexnumber:\n",
    "            continue\n",
    "        else:\n",
    "            dist = np.sqrt(np.sum((coord - m_obj[z].position)**2))\n",
    "            if r0<m_obj[z].distance:\n",
    "                fv += m_obj[z].mu*coord/dist**3\n",
    "            else:\n",
    "                fv -= m_obj[z].mu*coord/dist**3\n",
    "\n",
    "    answer = np.concatenate((fr,fv),axis=None,dtype=float)\n",
    "    return answer\n",
    "\n",
    "def update(m_obj,function,h,k):\n",
    "    data =  np.concatenate((function.position,function.velocity),axis=None, dtype=float)     \n",
    "    k1 = h * f(m_obj,data,k)\n",
    "    k2 = h * f(m_obj,data+k1/2,k)\n",
    "    k3 = h * f(m_obj,data+k2/2,k)\n",
    "    k4 = h * f(m_obj,data+k3,k)\n",
    "    newdata = data + (k1+(2*k2)+(2*k3)+k4)/6\n",
    "    function.update(np.split(newdata,2)[0],np.split(newdata,2)[1])\n"
   ]
  },
  {
   "cell_type": "code",
   "execution_count": 7,
   "metadata": {},
   "outputs": [
    {
     "data": {
      "image/png": "[encoded data removed]",
      "text/plain": [
       "<Figure size 1080x1080 with 1 Axes>"
      ]
     },
     "metadata": {
      "needs_background": "light"
     },
     "output_type": "display_data"
    }
   ],
   "source": [
    "#Main Part\n",
    "if __name__ == '__main__':\n",
    "    fig = plt.figure(figsize=(15,15))\n",
    "    ax = fig.add_subplot(1, 1, 1)\n",
    "\n",
    "    solsy = Solarsystem()       #call solarsystem\n",
    "\n",
    "    t0 = 0\n",
    "    t_end =  31600000             #initial time setting\n",
    "    dt = 1.3e6                  #step size\n",
    "    end = int(t_end/dt)+1\n",
    "    \n",
    "    t = t0\n",
    "    for i in range(end-1):\n",
    "        dummy = copy.deepcopy(solsy)\n",
    "        for k in range(1,len(solsy)):\n",
    "\n",
    "            plt.scatter(solsy[k].position[0],solsy[k].position[1])\n",
    "            update(dummy,solsy[k],dt,k)\n",
    "            \n",
    "        t += dt\n",
    "    \n",
    "    plt.show()\n",
    "\n",
    "    "
   ]
  }
 ],
 "metadata": {
  "interpreter": {
   "hash": "38740d3277777e2cd7c6c2cc9d8addf5118fdf3f82b1b39231fd12aeac8aee8b"
  },
  "kernelspec": {
   "display_name": "Python 3.10.2 64-bit",
   "language": "python",
   "name": "python3"
  },
  "language_info": {
   "codemirror_mode": {
    "name": "ipython",
    "version": 3
   },
   "file_extension": ".py",
   "mimetype": "text/x-python",
   "name": "python",
   "nbconvert_exporter": "python",
   "pygments_lexer": "ipython3",
   "version": "3.10.2"
  },
  "orig_nbformat": 4
 },
 "nbformat": 4,
 "nbformat_minor": 2
}
